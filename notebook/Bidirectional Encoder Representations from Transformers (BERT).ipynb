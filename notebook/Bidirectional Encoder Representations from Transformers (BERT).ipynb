{
 "cells": [
  {
   "cell_type": "markdown",
   "id": "cde73297",
   "metadata": {},
   "source": [
    "## Bidirectional Encoder Representations from Transformers (BERT)\n",
    "\n",
    "Materials:\n",
    "1. Attention is all you, paper posted by google, https://arxiv.org/pdf/1706.03762.pdf\n",
    "2. BERT Explained: State of the art language model for NLP by Rani Horev, https://towardsdatascience.com/bert-explained-state-of-the-art-language-model-for-nlp-f8b21a9b6270\n",
    "3. BERT: Pre-training of Deep Bidirectional Transformers for Language Understanding, by Jacob Devlin https://nlp.stanford.edu/seminar/details/jdevlin.pdf"
   ]
  },
  {
   "cell_type": "code",
   "execution_count": null,
   "id": "db36835b",
   "metadata": {},
   "outputs": [],
   "source": []
  }
 ],
 "metadata": {
  "kernelspec": {
   "display_name": "Python 3 (ipykernel)",
   "language": "python",
   "name": "python3"
  },
  "language_info": {
   "codemirror_mode": {
    "name": "ipython",
    "version": 3
   },
   "file_extension": ".py",
   "mimetype": "text/x-python",
   "name": "python",
   "nbconvert_exporter": "python",
   "pygments_lexer": "ipython3",
   "version": "3.9.6"
  }
 },
 "nbformat": 4,
 "nbformat_minor": 5
}
