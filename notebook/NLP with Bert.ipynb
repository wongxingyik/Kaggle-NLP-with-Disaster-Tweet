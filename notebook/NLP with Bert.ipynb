{
 "cells": [
  {
   "cell_type": "code",
   "execution_count": 1,
   "id": "e8e06916",
   "metadata": {},
   "outputs": [],
   "source": [
    "import numpy as np\n",
    "import pandas as pd\n",
    "import matplotlib.pyplot as plt\n",
    "import seaborn as sns\n",
    "import re\n",
    "from wordcloud import STOPWORDS"
   ]
  },
  {
   "cell_type": "markdown",
   "id": "38c1e1aa",
   "metadata": {},
   "source": [
    "## Import dataset"
   ]
  },
  {
   "cell_type": "code",
   "execution_count": 2,
   "id": "c161a457",
   "metadata": {},
   "outputs": [],
   "source": [
    "train = pd.read_csv('../dataset/train.csv')\n",
    "test = pd.read_csv('../dataset/test.csv')"
   ]
  },
  {
   "cell_type": "markdown",
   "id": "7e8efa82",
   "metadata": {},
   "source": [
    "## Preprocessing"
   ]
  },
  {
   "cell_type": "code",
   "execution_count": 3,
   "id": "5b283e9b",
   "metadata": {},
   "outputs": [],
   "source": [
    "test_id = test.id\n",
    "train_id = train.id\n",
    "\n",
    "#drop id and location\n",
    "c = ['id', 'location']\n",
    "train = train.drop(columns=c)\n",
    "test = test.drop(columns=c)"
   ]
  },
  {
   "cell_type": "markdown",
   "id": "c14d428f",
   "metadata": {},
   "source": [
    "#### Missing Value"
   ]
  },
  {
   "cell_type": "code",
   "execution_count": 4,
   "id": "6f866fed",
   "metadata": {},
   "outputs": [],
   "source": [
    "#fill missing keywords with unknown\n",
    "train['keyword'] = train.keyword.fillna('unknown')\n",
    "test['keyword'] = test.keyword.fillna('unknown')\n",
    "\n",
    "#fill keyword to tweets\n",
    "train['text'] = train['text'] + ' ' + train['keyword']\n",
    "test['text'] = test['text'] + ' ' + test['keyword']"
   ]
  },
  {
   "cell_type": "markdown",
   "id": "c3646c05",
   "metadata": {},
   "source": [
    "#### Truncations "
   ]
  },
  {
   "cell_type": "code",
   "execution_count": 6,
   "id": "ef68c1cc",
   "metadata": {},
   "outputs": [
    {
     "data": {
      "text/html": [
       "<div>\n",
       "<style scoped>\n",
       "    .dataframe tbody tr th:only-of-type {\n",
       "        vertical-align: middle;\n",
       "    }\n",
       "\n",
       "    .dataframe tbody tr th {\n",
       "        vertical-align: top;\n",
       "    }\n",
       "\n",
       "    .dataframe thead th {\n",
       "        text-align: right;\n",
       "    }\n",
       "</style>\n",
       "<table border=\"1\" class=\"dataframe\">\n",
       "  <thead>\n",
       "    <tr style=\"text-align: right;\">\n",
       "      <th></th>\n",
       "      <th>Truncation</th>\n",
       "    </tr>\n",
       "    <tr>\n",
       "      <th>index</th>\n",
       "      <th></th>\n",
       "    </tr>\n",
       "  </thead>\n",
       "  <tbody>\n",
       "    <tr>\n",
       "      <th>ain't</th>\n",
       "      <td>am not / are not / is not / has not / have not</td>\n",
       "    </tr>\n",
       "    <tr>\n",
       "      <th>aren't</th>\n",
       "      <td>are not / am not</td>\n",
       "    </tr>\n",
       "    <tr>\n",
       "      <th>can't</th>\n",
       "      <td>cannot</td>\n",
       "    </tr>\n",
       "    <tr>\n",
       "      <th>can't've</th>\n",
       "      <td>cannot have</td>\n",
       "    </tr>\n",
       "    <tr>\n",
       "      <th>'cause</th>\n",
       "      <td>because</td>\n",
       "    </tr>\n",
       "  </tbody>\n",
       "</table>\n",
       "</div>"
      ],
      "text/plain": [
       "                                              Truncation\n",
       "index                                                   \n",
       "ain't     am not / are not / is not / has not / have not\n",
       "aren't                                  are not / am not\n",
       "can't                                             cannot\n",
       "can't've                                     cannot have\n",
       "'cause                                           because"
      ]
     },
     "execution_count": 6,
     "metadata": {},
     "output_type": "execute_result"
    }
   ],
   "source": [
    "df_truncation = pd.read_csv('../dataset/Truncations.csv').set_index('index')\n",
    "df_truncation.head()"
   ]
  },
  {
   "cell_type": "code",
   "execution_count": 7,
   "id": "38f715c5",
   "metadata": {},
   "outputs": [
    {
     "data": {
      "text/plain": [
       "{\"ain't\": 'am not / are not / is not / has not / have not',\n",
       " \"aren't\": 'are not / am not',\n",
       " \"can't\": 'cannot',\n",
       " \"can't've\": 'cannot have',\n",
       " \"'cause\": 'because',\n",
       " \"could've\": 'could have',\n",
       " \"couldn't\": 'could not',\n",
       " \"couldn't've\": 'could not have',\n",
       " \"didn't\": 'did not',\n",
       " \"doesn't\": 'does not',\n",
       " \"don't\": 'do not',\n",
       " \"hadn't\": 'had not',\n",
       " \"hadn't've\": 'had not have',\n",
       " \"hasn't\": 'has not',\n",
       " \"haven't\": 'have not',\n",
       " \"he'd\": 'he had / he would',\n",
       " \"he'd've\": 'he would have',\n",
       " \"he'll\": 'he shall / he will',\n",
       " \"he'll've\": 'he shall have / he will have',\n",
       " \"he's\": 'he has / he is',\n",
       " \"how'd\": 'how did',\n",
       " \"how'd'y\": 'how do you',\n",
       " \"how'll\": 'how will',\n",
       " \"how's\": 'how has / how is / how does',\n",
       " \"I'd\": 'I had / I would',\n",
       " \"I'd've\": 'I would have',\n",
       " \"I'll\": 'I shall / I will',\n",
       " \"I'll've\": 'I shall have / I will have',\n",
       " \"I'm\": 'I am',\n",
       " \"I've\": 'I have',\n",
       " \"isn't\": 'is not',\n",
       " \"it'd\": 'it had / it would',\n",
       " \"it'd've\": 'it would have',\n",
       " \"it'll\": 'it shall / it will',\n",
       " \"it'll've\": 'it shall have / it will have',\n",
       " \"it's\": 'it has / it is',\n",
       " \"let's\": 'let us',\n",
       " \"ma'am\": 'madam',\n",
       " \"mayn't\": 'may not',\n",
       " \"might've\": 'might have',\n",
       " \"mightn't\": 'might not',\n",
       " \"mightn't've\": 'might not have',\n",
       " \"must've\": 'must have',\n",
       " \"mustn't\": 'must not',\n",
       " \"mustn't've\": 'must not have',\n",
       " \"needn't\": 'need not',\n",
       " \"needn't've\": 'need not have',\n",
       " \"o'clock\": 'of the clock',\n",
       " \"oughtn't\": 'ought not',\n",
       " \"oughtn't've\": 'ought not have',\n",
       " \"shan't\": 'shall not',\n",
       " \"sha'n't\": 'shall not',\n",
       " \"shan't've\": 'shall not have',\n",
       " \"she'd\": 'she had / she would',\n",
       " \"she'd've\": 'she would have',\n",
       " \"she'll\": 'she shall / she will',\n",
       " \"she'll've\": 'she shall have / she will have',\n",
       " \"she's\": 'she has / she is',\n",
       " \"should've\": 'should have',\n",
       " \"shouldn't\": 'should not',\n",
       " \"shouldn't've\": 'should not have',\n",
       " \"so've\": 'so have',\n",
       " \"so's\": 'so as / so is',\n",
       " \"that'd\": 'that would / that had',\n",
       " \"that'd've\": 'that would have',\n",
       " \"that's\": 'that has / that is',\n",
       " \"there'd\": 'there had / there would',\n",
       " \"there'd've\": 'there would have',\n",
       " \"there's\": 'there has / there is',\n",
       " \"they'd\": 'they had / they would',\n",
       " \"they'd've\": 'they would have',\n",
       " \"they'll\": 'they shall / they will',\n",
       " \"they'll've\": 'they shall have / they will have',\n",
       " \"they're\": 'they are',\n",
       " \"they've\": 'they have',\n",
       " \"to've\": 'to have',\n",
       " \"wasn't\": 'was not',\n",
       " \"we'd\": 'we had / we would',\n",
       " \"we'd've\": 'we would have',\n",
       " \"we'll\": 'we will',\n",
       " \"we'll've\": 'we will have',\n",
       " \"we're\": 'we are',\n",
       " \"we've\": 'we have',\n",
       " \"weren't\": 'were not',\n",
       " \"what'll\": 'what shall / what will',\n",
       " \"what'll've\": 'what shall have / what will have',\n",
       " \"what're\": 'what are',\n",
       " \"what's\": 'what has / what is',\n",
       " \"what've\": 'what have',\n",
       " \"when's\": 'when has / when is',\n",
       " \"when've\": 'when have',\n",
       " \"where'd\": 'where did',\n",
       " \"where's\": 'where has / where is',\n",
       " \"where've\": 'where have',\n",
       " \"who'll\": 'who shall / who will',\n",
       " \"who'll've\": 'who shall have / who will have',\n",
       " \"who's\": 'who has / who is',\n",
       " \"who've\": 'who have',\n",
       " \"why's\": 'why has / why is',\n",
       " \"why've\": 'why have',\n",
       " \"will've\": 'will have',\n",
       " \"won't\": 'will not',\n",
       " \"won't've\": 'will not have',\n",
       " \"would've\": 'would have',\n",
       " \"wouldn't\": 'would not',\n",
       " \"wouldn't've\": 'would not have',\n",
       " \"y'all\": 'you all',\n",
       " \"y'all'd\": 'you all would',\n",
       " \"y'all'd've\": 'you all would have',\n",
       " \"y'all're\": 'you all are',\n",
       " \"y'all've\": 'you all have',\n",
       " \"you'd\": 'you had / you would',\n",
       " \"you'd've\": 'you would have',\n",
       " \"you'll\": 'you shall / you will',\n",
       " \"you'll've\": 'you shall have / you will have',\n",
       " \"you're\": 'you are',\n",
       " \"you've\": 'you have'}"
      ]
     },
     "execution_count": 7,
     "metadata": {},
     "output_type": "execute_result"
    }
   ],
   "source": [
    "truncation = df_truncation.Truncation.to_dict()\n",
    "truncation"
   ]
  },
  {
   "cell_type": "code",
   "execution_count": 20,
   "id": "5bd25911",
   "metadata": {},
   "outputs": [
    {
     "name": "stdout",
     "output_type": "stream",
     "text": [
      "ain't\n"
     ]
    },
    {
     "data": {
      "text/plain": [
       "'am not / are not / is not / has not / have not'"
      ]
     },
     "execution_count": 20,
     "metadata": {},
     "output_type": "execute_result"
    }
   ],
   "source": [
    "#compile all contraction words\n",
    "truncations_re = re.compile('(%s)' % '|'.join(truncation.keys()))\n",
    "\n",
    "\n",
    "#define function to expand contractions and showcase\n",
    "def expand_contractions(s, contractions = truncation):\n",
    "#     print(s)\n",
    "    def replace(match):\n",
    "#         print( contractions[match.group(0)])\n",
    "        return contractions[match.group(0)]\n",
    "    return truncations_re.sub(replace, s)\n",
    "\n",
    "expand_contractions(\"ain't\")"
   ]
  },
  {
   "cell_type": "markdown",
   "id": "3b46645a",
   "metadata": {},
   "source": [
    "#### Strip Sentence\n"
   ]
  },
  {
   "cell_type": "code",
   "execution_count": 21,
   "id": "c0e9c79a",
   "metadata": {},
   "outputs": [
    {
     "data": {
      "text/plain": [
       "'Titanic tragedy could have been prevented Economic Times Telegraph co uk Titanic tragedy could have been prevented'"
      ]
     },
     "execution_count": 21,
     "metadata": {},
     "output_type": "execute_result"
    }
   ],
   "source": [
    "def strip(x):\n",
    "    return ' '.join(re.sub(\"(@[A-Za-z0-9]+)|([^0-9A-Za-z \\t])|(\\w+:\\/\\/\\S+)\",\" \",x).split())\n",
    "\n",
    "strip('@shawn Titanic #tragedy could have been prevented Economic Times: Telegraph.co.uk Titanic tragedy could have been prevented... http://bet.ly/tuN2wx')"
   ]
  },
  {
   "cell_type": "code",
   "execution_count": null,
   "id": "d912121f",
   "metadata": {},
   "outputs": [],
   "source": []
  }
 ],
 "metadata": {
  "kernelspec": {
   "display_name": "Python 3 (ipykernel)",
   "language": "python",
   "name": "python3"
  },
  "language_info": {
   "codemirror_mode": {
    "name": "ipython",
    "version": 3
   },
   "file_extension": ".py",
   "mimetype": "text/x-python",
   "name": "python",
   "nbconvert_exporter": "python",
   "pygments_lexer": "ipython3",
   "version": "3.9.6"
  }
 },
 "nbformat": 4,
 "nbformat_minor": 5
}
